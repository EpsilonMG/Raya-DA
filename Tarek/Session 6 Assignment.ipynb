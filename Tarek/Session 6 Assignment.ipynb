{
 "cells": [
  {
   "cell_type": "markdown",
   "id": "7e1020a6",
   "metadata": {},
   "source": [
    "####  make a python function that deletes randomly the half of the files in 'universe' folder "
   ]
  },
  {
   "cell_type": "code",
   "execution_count": 2,
   "id": "84ae672f",
   "metadata": {},
   "outputs": [],
   "source": [
    "import os, random"
   ]
  },
  {
   "cell_type": "code",
   "execution_count": 4,
   "id": "faf3995e",
   "metadata": {},
   "outputs": [
    {
     "data": {
      "text/plain": [
       "['.ipynb_checkpoints',\n",
       " 'assignment3 test',\n",
       " 'assignment3 test.txt',\n",
       " 'assignment3.txt',\n",
       " 'Assignment6 file',\n",
       " 'session 5 Assignment Solution.ipynb',\n",
       " 'Session 6 Assignment.ipynb',\n",
       " 'Session1 Assignment.ipynb',\n",
       " 'Session2 Assignment.ipynb',\n",
       " 'Session3 Assignment.ipynb',\n",
       " 'Session4 Assignment.ipynb',\n",
       " 'Session5 Assignment.ipynb',\n",
       " 'Session6 Assignment.txt',\n",
       " 'Session_3_Assignment_solution.ipynb',\n",
       " 'universe',\n",
       " 'Untitled.ipynb',\n",
       " 'Untitled1.ipynb',\n",
       " 'Untitled2.ipynb']"
      ]
     },
     "execution_count": 4,
     "metadata": {},
     "output_type": "execute_result"
    }
   ],
   "source": [
    "os.listdir()"
   ]
  },
  {
   "cell_type": "code",
   "execution_count": 5,
   "id": "80efae28",
   "metadata": {},
   "outputs": [
    {
     "data": {
      "text/plain": [
       "['cover001.png',\n",
       " 'cover002.png',\n",
       " 'cover003.png',\n",
       " 'cover004.png',\n",
       " 'cover005.png',\n",
       " 'cover006.png',\n",
       " 'cover007.png',\n",
       " 'cover008.png',\n",
       " 'cover009.png',\n",
       " 'cover010.png',\n",
       " 'cover011.png',\n",
       " 'cover012.png',\n",
       " 'cover013.png',\n",
       " 'cover014.png',\n",
       " 'cover015.png',\n",
       " 'cover016.png',\n",
       " 'cover017.png',\n",
       " 'cover018.png',\n",
       " 'cover019.png',\n",
       " 'cover020.png',\n",
       " 'cover021.png',\n",
       " 'cover022.png',\n",
       " 'cover023.png',\n",
       " 'cover024.png',\n",
       " 'cover025.png',\n",
       " 'cover026.png',\n",
       " 'cover027.png',\n",
       " 'cover028.png',\n",
       " 'cover029.png',\n",
       " 'cover030.png',\n",
       " 'cover031.png',\n",
       " 'cover032.png',\n",
       " 'cover033.png',\n",
       " 'cover034.png',\n",
       " 'cover035.png',\n",
       " 'cover036.png',\n",
       " 'cover037.png',\n",
       " 'cover038.png',\n",
       " 'cover039.png',\n",
       " 'cover040.png',\n",
       " 'cover041.png',\n",
       " 'cover042.png',\n",
       " 'cover043.png',\n",
       " 'cover044.png',\n",
       " 'cover045.png',\n",
       " 'cover046.png',\n",
       " 'cover047.png',\n",
       " 'cover048.png',\n",
       " 'cover049.png',\n",
       " 'cover050.png']"
      ]
     },
     "execution_count": 5,
     "metadata": {},
     "output_type": "execute_result"
    }
   ],
   "source": [
    "file = os.listdir('universe')\n",
    "file"
   ]
  },
  {
   "cell_type": "code",
   "execution_count": 6,
   "id": "e51933f5",
   "metadata": {},
   "outputs": [
    {
     "data": {
      "text/plain": [
       "['cover009.png',\n",
       " 'cover007.png',\n",
       " 'cover016.png',\n",
       " 'cover049.png',\n",
       " 'cover012.png',\n",
       " 'cover034.png',\n",
       " 'cover003.png',\n",
       " 'cover043.png',\n",
       " 'cover024.png',\n",
       " 'cover021.png',\n",
       " 'cover017.png',\n",
       " 'cover049.png',\n",
       " 'cover017.png',\n",
       " 'cover022.png',\n",
       " 'cover035.png',\n",
       " 'cover047.png',\n",
       " 'cover003.png',\n",
       " 'cover037.png',\n",
       " 'cover012.png',\n",
       " 'cover010.png',\n",
       " 'cover042.png',\n",
       " 'cover034.png',\n",
       " 'cover006.png',\n",
       " 'cover048.png',\n",
       " 'cover034.png']"
      ]
     },
     "execution_count": 6,
     "metadata": {},
     "output_type": "execute_result"
    }
   ],
   "source": [
    "choose_random = random.choices(file,k=int(len(file)/2))\n",
    "choose_random"
   ]
  },
  {
   "cell_type": "code",
   "execution_count": 14,
   "id": "b5df49e4",
   "metadata": {},
   "outputs": [],
   "source": [
    "import os,random\n",
    "file = os.listdir('universe')\n",
    "choose_random = random.choices(file, k= int(len(file)/2))\n"
   ]
  },
  {
   "cell_type": "code",
   "execution_count": 15,
   "id": "9086052b",
   "metadata": {},
   "outputs": [
    {
     "ename": "ValueError",
     "evalue": "list.remove(x): x not in list",
     "output_type": "error",
     "traceback": [
      "\u001b[1;31m---------------------------------------------------------------------------\u001b[0m",
      "\u001b[1;31mValueError\u001b[0m                                Traceback (most recent call last)",
      "\u001b[1;32m~\\AppData\\Local\\Temp/ipykernel_13004/1640775045.py\u001b[0m in \u001b[0;36m<module>\u001b[1;34m\u001b[0m\n\u001b[1;32m----> 1\u001b[1;33m \u001b[0mfile\u001b[0m\u001b[1;33m.\u001b[0m\u001b[0mremove\u001b[0m\u001b[1;33m(\u001b[0m\u001b[0mchoose_random\u001b[0m\u001b[1;33m)\u001b[0m\u001b[1;33m\u001b[0m\u001b[1;33m\u001b[0m\u001b[0m\n\u001b[0m",
      "\u001b[1;31mValueError\u001b[0m: list.remove(x): x not in list"
     ]
    }
   ],
   "source": [
    "file.remove(choose_random)"
   ]
  },
  {
   "cell_type": "code",
   "execution_count": 16,
   "id": "edf54ceb",
   "metadata": {},
   "outputs": [
    {
     "ename": "PermissionError",
     "evalue": "[WinError 5] Access is denied: 'universe'",
     "output_type": "error",
     "traceback": [
      "\u001b[1;31m---------------------------------------------------------------------------\u001b[0m",
      "\u001b[1;31mPermissionError\u001b[0m                           Traceback (most recent call last)",
      "\u001b[1;32m~\\AppData\\Local\\Temp/ipykernel_13004/2013858324.py\u001b[0m in \u001b[0;36m<module>\u001b[1;34m\u001b[0m\n\u001b[1;32m----> 1\u001b[1;33m \u001b[0mos\u001b[0m\u001b[1;33m.\u001b[0m\u001b[0mremove\u001b[0m\u001b[1;33m(\u001b[0m\u001b[1;34m'universe'\u001b[0m\u001b[1;33m)\u001b[0m\u001b[1;33m\u001b[0m\u001b[1;33m\u001b[0m\u001b[0m\n\u001b[0m",
      "\u001b[1;31mPermissionError\u001b[0m: [WinError 5] Access is denied: 'universe'"
     ]
    }
   ],
   "source": [
    "os.remove('universe')"
   ]
  },
  {
   "cell_type": "code",
   "execution_count": null,
   "id": "9d658002",
   "metadata": {},
   "outputs": [],
   "source": [
    "## i need to know the reason of the error and i don't know how to create a function as the question states ???"
   ]
  }
 ],
 "metadata": {
  "kernelspec": {
   "display_name": "Python 3 (ipykernel)",
   "language": "python",
   "name": "python3"
  },
  "language_info": {
   "codemirror_mode": {
    "name": "ipython",
    "version": 3
   },
   "file_extension": ".py",
   "mimetype": "text/x-python",
   "name": "python",
   "nbconvert_exporter": "python",
   "pygments_lexer": "ipython3",
   "version": "3.9.7"
  }
 },
 "nbformat": 4,
 "nbformat_minor": 5
}
