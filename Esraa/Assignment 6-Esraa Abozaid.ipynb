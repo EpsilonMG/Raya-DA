{
 "cells": [
  {
   "cell_type": "code",
   "execution_count": 8,
   "id": "36b1b842",
   "metadata": {},
   "outputs": [
    {
     "name": "stdout",
     "output_type": "stream",
     "text": [
      "finish\n"
     ]
    }
   ],
   "source": [
    "\n",
    "\n",
    "import os\n",
    "from random import choice\n",
    "\n",
    "location ='C:/Users/Haithamm17/Desktop/Esraa/Paython/Material - Copy/Material/universe'\n",
    "dir_files = os.listdir('C:/Users/Haithamm17/Desktop/Esraa/Paython/Material - Copy/Material/universe')\n",
    "NumberOfFilles= len(dir_files)\n",
    "for file in dir_files:\n",
    "    i=0\n",
    "    if i<=(NumberOfFilles/2):\n",
    "        f=choice(dir_files)\n",
    "        path = os.path.join(location, f)\n",
    "        os.remove(path)\n",
    "        dir_files.remove(f)\n",
    "        i=i+1\n",
    "        \n",
    "print(\"finish\")    "
   ]
  },
  {
   "cell_type": "code",
   "execution_count": null,
   "id": "fef5a6a6",
   "metadata": {},
   "outputs": [],
   "source": []
  }
 ],
 "metadata": {
  "kernelspec": {
   "display_name": "Python 3",
   "language": "python",
   "name": "python3"
  },
  "language_info": {
   "codemirror_mode": {
    "name": "ipython",
    "version": 3
   },
   "file_extension": ".py",
   "mimetype": "text/x-python",
   "name": "python",
   "nbconvert_exporter": "python",
   "pygments_lexer": "ipython3",
   "version": "3.8.8"
  }
 },
 "nbformat": 4,
 "nbformat_minor": 5
}
